{
 "cells": [
  {
   "cell_type": "code",
   "execution_count": 7,
   "id": "28ffd3a5",
   "metadata": {},
   "outputs": [],
   "source": [
    "from keras import models\n",
    "from keras import layers\n",
    "from keras.datasets import mnist\n",
    "from keras.utils import np_utils\n",
    "import matplotlib.pyplot as plt\n",
    "import numpy as np\n",
    "\n",
    "# suppress warning/error messages in terminal\n",
    "import os\n",
    "os.environ['TF_CPP_MIN_LOG_LEVEL'] = '3'\n",
    "\n",
    "# load in data from mnist dataset (60k training, 10k test)\n",
    "(x_train, y_train), (x_test, y_test) = mnist.load_data()\n",
    "\n",
    "# reshape and convert to one-hot\n",
    "x_train = x_train.reshape(x_train.shape[0], 784)\n",
    "x_test = x_test.reshape(x_test.shape[0], 784)\n",
    "y_train = np_utils.to_categorical(y_train, 10)\n",
    "y_test = np_utils.to_categorical(y_test, 10)\n",
    "\n",
    "# split main training set into train/validation sets (6k out of 60k data points reserved for validation)\n",
    "x_validate = x_train[:6000, :]\n",
    "y_validate = y_train[:6000, :]\n",
    "x_train = x_train[6000:, :]\n",
    "y_train = y_train[6000:, :]\n",
    "\n",
    "'''\n",
    "Building layers for the feedforward NN:\n",
    "Hidden layers have 56, 96, 96, and 56 nodes, in that order.\n",
    "Takes in 784 values (pixel input) and outputs 10 values (predicted probability for each number, 0-9).\n",
    "'''\n",
    "model = models.Sequential()\n",
    "model.add(layers.Dense(56,activation='tanh',input_shape=(784,)))\n",
    "model.add(layers.Dense(96,activation='tanh'))\n",
    "model.add(layers.Dense(96,activation='tanh'))\n",
    "model.add(layers.Dense(56,activation='tanh'))\n",
    "model.add(layers.Dense(10,activation='softmax'))\n",
    "\n",
    "model.compile(loss='categorical_crossentropy',\n",
    "\t\t\t  optimizer='adam',\n",
    "\t\t\t  metrics=['accuracy'])\n",
    "\n"
   ]
  },
  {
   "cell_type": "code",
   "execution_count": 8,
   "id": "cc3bc3e0",
   "metadata": {},
   "outputs": [
    {
     "name": "stdout",
     "output_type": "stream",
     "text": [
      "Epoch 1/20\n",
      "106/106 - 1s - loss: 0.8435 - accuracy: 0.7430 - val_loss: 0.4569 - val_accuracy: 0.8613 - 774ms/epoch - 7ms/step\n",
      "Epoch 2/20\n",
      "106/106 - 0s - loss: 0.4382 - accuracy: 0.8666 - val_loss: 0.3778 - val_accuracy: 0.8848 - 488ms/epoch - 5ms/step\n",
      "Epoch 3/20\n",
      "106/106 - 0s - loss: 0.3559 - accuracy: 0.8910 - val_loss: 0.3177 - val_accuracy: 0.9037 - 468ms/epoch - 4ms/step\n",
      "Epoch 4/20\n",
      "106/106 - 0s - loss: 0.3335 - accuracy: 0.8963 - val_loss: 0.3060 - val_accuracy: 0.9030 - 450ms/epoch - 4ms/step\n",
      "Epoch 5/20\n",
      "106/106 - 0s - loss: 0.3009 - accuracy: 0.9059 - val_loss: 0.2942 - val_accuracy: 0.9123 - 471ms/epoch - 4ms/step\n",
      "Epoch 6/20\n",
      "106/106 - 1s - loss: 0.2950 - accuracy: 0.9078 - val_loss: 0.3070 - val_accuracy: 0.9000 - 502ms/epoch - 5ms/step\n",
      "Epoch 7/20\n",
      "106/106 - 1s - loss: 0.2719 - accuracy: 0.9149 - val_loss: 0.2731 - val_accuracy: 0.9143 - 527ms/epoch - 5ms/step\n",
      "Epoch 8/20\n",
      "106/106 - 0s - loss: 0.2569 - accuracy: 0.9197 - val_loss: 0.2448 - val_accuracy: 0.9222 - 491ms/epoch - 5ms/step\n",
      "Epoch 9/20\n",
      "106/106 - 0s - loss: 0.2482 - accuracy: 0.9217 - val_loss: 0.2470 - val_accuracy: 0.9243 - 483ms/epoch - 5ms/step\n",
      "Epoch 10/20\n",
      "106/106 - 0s - loss: 0.2482 - accuracy: 0.9221 - val_loss: 0.2407 - val_accuracy: 0.9258 - 472ms/epoch - 4ms/step\n",
      "Epoch 11/20\n",
      "106/106 - 0s - loss: 0.2343 - accuracy: 0.9265 - val_loss: 0.2163 - val_accuracy: 0.9317 - 441ms/epoch - 4ms/step\n",
      "Epoch 12/20\n",
      "106/106 - 0s - loss: 0.2358 - accuracy: 0.9253 - val_loss: 0.2306 - val_accuracy: 0.9265 - 490ms/epoch - 5ms/step\n",
      "Epoch 13/20\n",
      "106/106 - 0s - loss: 0.2264 - accuracy: 0.9273 - val_loss: 0.2240 - val_accuracy: 0.9305 - 467ms/epoch - 4ms/step\n",
      "Epoch 14/20\n",
      "106/106 - 0s - loss: 0.2277 - accuracy: 0.9278 - val_loss: 0.2186 - val_accuracy: 0.9315 - 487ms/epoch - 5ms/step\n",
      "Epoch 15/20\n",
      "106/106 - 1s - loss: 0.2282 - accuracy: 0.9294 - val_loss: 0.2101 - val_accuracy: 0.9345 - 500ms/epoch - 5ms/step\n",
      "Epoch 16/20\n",
      "106/106 - 0s - loss: 0.2084 - accuracy: 0.9341 - val_loss: 0.2048 - val_accuracy: 0.9358 - 447ms/epoch - 4ms/step\n",
      "Epoch 17/20\n",
      "106/106 - 0s - loss: 0.2016 - accuracy: 0.9363 - val_loss: 0.1896 - val_accuracy: 0.9395 - 463ms/epoch - 4ms/step\n",
      "Epoch 18/20\n",
      "106/106 - 1s - loss: 0.1958 - accuracy: 0.9378 - val_loss: 0.1871 - val_accuracy: 0.9413 - 506ms/epoch - 5ms/step\n",
      "Epoch 19/20\n",
      "106/106 - 0s - loss: 0.2070 - accuracy: 0.9338 - val_loss: 0.1979 - val_accuracy: 0.9408 - 492ms/epoch - 5ms/step\n",
      "Epoch 20/20\n",
      "106/106 - 0s - loss: 0.2097 - accuracy: 0.9335 - val_loss: 0.2136 - val_accuracy: 0.9335 - 446ms/epoch - 4ms/step\n",
      "Finished fitting.\n",
      "Checking accuracy on test set...\n",
      "20/20 [==============================] - 0s 2ms/step - loss: 0.2275 - accuracy: 0.9286\n",
      "\n",
      "Accuracy on test set: 0.928600013256073\n"
     ]
    },
    {
     "data": {
      "image/png": "[encoded data removed]",
      "text/plain": [
       "<Figure size 432x288 with 1 Axes>"
      ]
     },
     "metadata": {
      "needs_background": "light"
     },
     "output_type": "display_data"
    }
   ],
   "source": [
    "# training the NN\n",
    "epochs = 20\n",
    "history = model.fit(x_train,y_train,epochs=epochs,batch_size=512,verbose=2,validation_data=(x_validate,y_validate))\n",
    "print(\"Finished fitting.\")\n",
    "\n",
    "# plotting learning curves during training (on both training and validation data)\n",
    "epoch_labels = range(1, epochs+1)\n",
    "hist_dict = history.history\n",
    "plt.title(\"Accuracy vs Epochs\")\n",
    "plt.plot(epoch_labels, hist_dict[\"accuracy\"],'bo', label=\"Training\")\n",
    "plt.plot(epoch_labels, hist_dict[\"val_accuracy\"],'go', label=\"Validation\")\n",
    "plt.legend(loc=\"best\")\n",
    "plt.xlabel(\"Epochs\")\n",
    "plt.ylabel(\"Accuracy\")\n",
    "\n",
    "# evaluating final performance using test data\n",
    "print(\"Checking accuracy on test set...\")\n",
    "acc = model.evaluate(x_test,y_test,batch_size=512)\n",
    "print(\"\\nAccuracy on test set: \" + str(acc[1]))\n",
    "plt.show()"
   ]
  },
  {
   "cell_type": "code",
   "execution_count": null,
   "id": "1c910c76",
   "metadata": {},
   "outputs": [],
   "source": []
  }
 ],
 "metadata": {
  "kernelspec": {
   "display_name": "Python 3 (ipykernel)",
   "language": "python",
   "name": "python3"
  },
  "language_info": {
   "codemirror_mode": {
    "name": "ipython",
    "version": 3
   },
   "file_extension": ".py",
   "mimetype": "text/x-python",
   "name": "python",
   "nbconvert_exporter": "python",
   "pygments_lexer": "ipython3",
   "version": "3.9.7"
  }
 },
 "nbformat": 4,
 "nbformat_minor": 5
}
